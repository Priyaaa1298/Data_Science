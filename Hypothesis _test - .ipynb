{
 "cells": [
  {
   "cell_type": "code",
   "execution_count": 1,
   "id": "684c0252",
   "metadata": {},
   "outputs": [],
   "source": [
    "#import necessary libraries\n",
    "import math\n",
    "from scipy.stats import norm"
   ]
  },
  {
   "cell_type": "code",
   "execution_count": 2,
   "id": "d00c984c",
   "metadata": {},
   "outputs": [],
   "source": [
    "#Given data\n",
    "sample_mean = 3050\n",
    "population_mean = 600\n",
    "standard_deviation = 25\n",
    "sample_size = 25"
   ]
  },
  {
   "cell_type": "code",
   "execution_count": 3,
   "id": "5f53a22a",
   "metadata": {},
   "outputs": [],
   "source": [
    "# Calculate the Z-test statistic\n",
    "z_statistic = (sample_mean - population_mean) / (standard_deviation / math.sqrt(sample_size))\n"
   ]
  },
  {
   "cell_type": "code",
   "execution_count": 4,
   "id": "2d996446",
   "metadata": {},
   "outputs": [
    {
     "name": "stdout",
     "output_type": "stream",
     "text": [
      "Z-test statistic: 490.00\n"
     ]
    }
   ],
   "source": [
    "print(f\"Z-test statistic: {z_statistic:.2f}\")"
   ]
  },
  {
   "cell_type": "code",
   "execution_count": 5,
   "id": "e9dde2f2",
   "metadata": {},
   "outputs": [
    {
     "name": "stdout",
     "output_type": "stream",
     "text": [
      "Critical Z-value (Two-tailed): ±1.96\n"
     ]
    }
   ],
   "source": [
    "#given alpha value\n",
    "alpha = 0.05\n",
    "# Critical values for two-tailed test\n",
    "z_critical = norm.ppf(1 - alpha / 2)  # 1 - alpha/2 for right-tail\n",
    "print(f\"Critical Z-value (Two-tailed): ±{z_critical:.2f}\")"
   ]
  },
  {
   "cell_type": "markdown",
   "id": "5daf3f58",
   "metadata": {},
   "source": []
  },
  {
   "cell_type": "markdown",
   "id": "d7bd6009",
   "metadata": {},
   "source": [
    "z-statistic is greater than the critical z-value based on the significance level, the null hypothesis is rejected."
   ]
  },
  {
   "cell_type": "markdown",
   "id": "0341ac94",
   "metadata": {},
   "source": [
    "Conclusion :- Here z-statistic of 490 is an extremely large value, indicating that the sample mean is far from the hypothesized population mean. \n",
    "This suggests that the null hypothesis is highly unlikely to be true, and the observed sample mean is statistically significant.test statistic \n",
    "𝑧 = 490 far exceeds the critical z-value, providing extremely strong evidence to reject the null hypothesis.\n",
    "   "
   ]
  }
 ],
 "metadata": {
  "kernelspec": {
   "display_name": "Python 3 (ipykernel)",
   "language": "python",
   "name": "python3"
  },
  "language_info": {
   "codemirror_mode": {
    "name": "ipython",
    "version": 3
   },
   "file_extension": ".py",
   "mimetype": "text/x-python",
   "name": "python",
   "nbconvert_exporter": "python",
   "pygments_lexer": "ipython3",
   "version": "3.9.7"
  }
 },
 "nbformat": 4,
 "nbformat_minor": 5
}
