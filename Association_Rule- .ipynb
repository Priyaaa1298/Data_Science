{
 "cells": [
  {
   "cell_type": "code",
   "execution_count": 36,
   "id": "51ba8321",
   "metadata": {},
   "outputs": [
    {
     "name": "stdout",
     "output_type": "stream",
     "text": [
      "Requirement already satisfied: mlxtend in c:\\users\\admin\\anaconda3\\lib\\site-packages (0.23.3)\n",
      "Requirement already satisfied: matplotlib>=3.0.0 in c:\\users\\admin\\anaconda3\\lib\\site-packages (from mlxtend) (3.4.3)\n",
      "Requirement already satisfied: scipy>=1.2.1 in c:\\users\\admin\\anaconda3\\lib\\site-packages (from mlxtend) (1.7.1)\n",
      "Requirement already satisfied: pandas>=0.24.2 in c:\\users\\admin\\anaconda3\\lib\\site-packages (from mlxtend) (1.3.4)\n",
      "Requirement already satisfied: scikit-learn>=1.3.1 in c:\\users\\admin\\anaconda3\\lib\\site-packages (from mlxtend) (1.5.2)\n",
      "Requirement already satisfied: joblib>=0.13.2 in c:\\users\\admin\\anaconda3\\lib\\site-packages (from mlxtend) (1.4.2)\n",
      "Requirement already satisfied: numpy>=1.16.2 in c:\\users\\admin\\anaconda3\\lib\\site-packages (from mlxtend) (1.20.3)\n",
      "Requirement already satisfied: pillow>=6.2.0 in c:\\users\\admin\\anaconda3\\lib\\site-packages (from matplotlib>=3.0.0->mlxtend) (8.4.0)\n",
      "Requirement already satisfied: pyparsing>=2.2.1 in c:\\users\\admin\\anaconda3\\lib\\site-packages (from matplotlib>=3.0.0->mlxtend) (3.0.4)\n",
      "Requirement already satisfied: python-dateutil>=2.7 in c:\\users\\admin\\anaconda3\\lib\\site-packages (from matplotlib>=3.0.0->mlxtend) (2.8.2)\n",
      "Requirement already satisfied: cycler>=0.10 in c:\\users\\admin\\anaconda3\\lib\\site-packages (from matplotlib>=3.0.0->mlxtend) (0.10.0)\n",
      "Requirement already satisfied: kiwisolver>=1.0.1 in c:\\users\\admin\\anaconda3\\lib\\site-packages (from matplotlib>=3.0.0->mlxtend) (1.3.1)\n",
      "Requirement already satisfied: six in c:\\users\\admin\\anaconda3\\lib\\site-packages (from cycler>=0.10->matplotlib>=3.0.0->mlxtend) (1.16.0)\n",
      "Requirement already satisfied: pytz>=2017.3 in c:\\users\\admin\\anaconda3\\lib\\site-packages (from pandas>=0.24.2->mlxtend) (2021.3)\n",
      "Requirement already satisfied: threadpoolctl>=3.1.0 in c:\\users\\admin\\anaconda3\\lib\\site-packages (from scikit-learn>=1.3.1->mlxtend) (3.5.0)\n"
     ]
    }
   ],
   "source": [
    "import pandas as pd\n",
    "import matplotlib.pyplot as plt\n",
    "from collections import Counter\n",
    "import seaborn as sns\n",
    "\n",
    "!pip install --upgrade mlxtend\n",
    "from mlxtend.preprocessing import TransactionEncoder\n",
    "from mlxtend.frequent_patterns import apriori\n",
    "from mlxtend.frequent_patterns import association_rules\n",
    "import warnings\n",
    "warnings.filterwarnings('ignore')\n"
   ]
  },
  {
   "cell_type": "code",
   "execution_count": 2,
   "id": "d97b4e09",
   "metadata": {},
   "outputs": [],
   "source": [
    "df = pd.read_csv(r'C:\\Users\\Admin\\Desktop\\data science assighnments\\Clustering\\Clustering\\Online retail.csv')"
   ]
  },
  {
   "cell_type": "code",
   "execution_count": 3,
   "id": "be57bed7",
   "metadata": {},
   "outputs": [
    {
     "data": {
      "text/html": [
       "<div>\n",
       "<style scoped>\n",
       "    .dataframe tbody tr th:only-of-type {\n",
       "        vertical-align: middle;\n",
       "    }\n",
       "\n",
       "    .dataframe tbody tr th {\n",
       "        vertical-align: top;\n",
       "    }\n",
       "\n",
       "    .dataframe thead th {\n",
       "        text-align: right;\n",
       "    }\n",
       "</style>\n",
       "<table border=\"1\" class=\"dataframe\">\n",
       "  <thead>\n",
       "    <tr style=\"text-align: right;\">\n",
       "      <th></th>\n",
       "      <th>shrimp,almonds,avocado,vegetables mix,green grapes,whole weat flour,yams,cottage cheese,energy drink,tomato juice,low fat yogurt,green tea,honey,salad,mineral water,salmon,antioxydant juice,frozen smoothie,spinach,olive oil</th>\n",
       "    </tr>\n",
       "  </thead>\n",
       "  <tbody>\n",
       "    <tr>\n",
       "      <th>0</th>\n",
       "      <td>burgers,meatballs,eggs</td>\n",
       "    </tr>\n",
       "    <tr>\n",
       "      <th>1</th>\n",
       "      <td>chutney</td>\n",
       "    </tr>\n",
       "    <tr>\n",
       "      <th>2</th>\n",
       "      <td>turkey,avocado</td>\n",
       "    </tr>\n",
       "    <tr>\n",
       "      <th>3</th>\n",
       "      <td>mineral water,milk,energy bar,whole wheat rice...</td>\n",
       "    </tr>\n",
       "    <tr>\n",
       "      <th>4</th>\n",
       "      <td>low fat yogurt</td>\n",
       "    </tr>\n",
       "  </tbody>\n",
       "</table>\n",
       "</div>"
      ],
      "text/plain": [
       "  shrimp,almonds,avocado,vegetables mix,green grapes,whole weat flour,yams,cottage cheese,energy drink,tomato juice,low fat yogurt,green tea,honey,salad,mineral water,salmon,antioxydant juice,frozen smoothie,spinach,olive oil\n",
       "0                             burgers,meatballs,eggs                                                                                                                                                                             \n",
       "1                                            chutney                                                                                                                                                                             \n",
       "2                                     turkey,avocado                                                                                                                                                                             \n",
       "3  mineral water,milk,energy bar,whole wheat rice...                                                                                                                                                                             \n",
       "4                                     low fat yogurt                                                                                                                                                                             "
      ]
     },
     "execution_count": 3,
     "metadata": {},
     "output_type": "execute_result"
    }
   ],
   "source": [
    "df.head()"
   ]
  },
  {
   "cell_type": "code",
   "execution_count": 4,
   "id": "f9ca84e8",
   "metadata": {},
   "outputs": [
    {
     "data": {
      "text/html": [
       "<div>\n",
       "<style scoped>\n",
       "    .dataframe tbody tr th:only-of-type {\n",
       "        vertical-align: middle;\n",
       "    }\n",
       "\n",
       "    .dataframe tbody tr th {\n",
       "        vertical-align: top;\n",
       "    }\n",
       "\n",
       "    .dataframe thead th {\n",
       "        text-align: right;\n",
       "    }\n",
       "</style>\n",
       "<table border=\"1\" class=\"dataframe\">\n",
       "  <thead>\n",
       "    <tr style=\"text-align: right;\">\n",
       "      <th></th>\n",
       "      <th>shrimp,almonds,avocado,vegetables mix,green grapes,whole weat flour,yams,cottage cheese,energy drink,tomato juice,low fat yogurt,green tea,honey,salad,mineral water,salmon,antioxydant juice,frozen smoothie,spinach,olive oil</th>\n",
       "    </tr>\n",
       "  </thead>\n",
       "  <tbody>\n",
       "    <tr>\n",
       "      <th>count</th>\n",
       "      <td>7500</td>\n",
       "    </tr>\n",
       "    <tr>\n",
       "      <th>unique</th>\n",
       "      <td>5175</td>\n",
       "    </tr>\n",
       "    <tr>\n",
       "      <th>top</th>\n",
       "      <td>cookies</td>\n",
       "    </tr>\n",
       "    <tr>\n",
       "      <th>freq</th>\n",
       "      <td>223</td>\n",
       "    </tr>\n",
       "  </tbody>\n",
       "</table>\n",
       "</div>"
      ],
      "text/plain": [
       "       shrimp,almonds,avocado,vegetables mix,green grapes,whole weat flour,yams,cottage cheese,energy drink,tomato juice,low fat yogurt,green tea,honey,salad,mineral water,salmon,antioxydant juice,frozen smoothie,spinach,olive oil\n",
       "count                                                7500                                                                                                                                                                             \n",
       "unique                                               5175                                                                                                                                                                             \n",
       "top                                               cookies                                                                                                                                                                             \n",
       "freq                                                  223                                                                                                                                                                             "
      ]
     },
     "execution_count": 4,
     "metadata": {},
     "output_type": "execute_result"
    }
   ],
   "source": [
    "df.describe()"
   ]
  },
  {
   "cell_type": "code",
   "execution_count": 5,
   "id": "274906fe",
   "metadata": {},
   "outputs": [
    {
     "data": {
      "text/plain": [
       "shrimp,almonds,avocado,vegetables mix,green grapes,whole weat flour,yams,cottage cheese,energy drink,tomato juice,low fat yogurt,green tea,honey,salad,mineral water,salmon,antioxydant juice,frozen smoothie,spinach,olive oil    0\n",
       "dtype: int64"
      ]
     },
     "execution_count": 5,
     "metadata": {},
     "output_type": "execute_result"
    }
   ],
   "source": [
    "df.isnull().sum()"
   ]
  },
  {
   "cell_type": "code",
   "execution_count": 6,
   "id": "282e05e9",
   "metadata": {},
   "outputs": [
    {
     "name": "stdout",
     "output_type": "stream",
     "text": [
      "Items per transaction:\n",
      " 0                                  burgers,meatballs,eggs\n",
      "1                                                 chutney\n",
      "2                                          turkey,avocado\n",
      "3       mineral water,milk,energy bar,whole wheat rice...\n",
      "4                                          low fat yogurt\n",
      "                              ...                        \n",
      "7495                        butter,light mayo,fresh bread\n",
      "7496    burgers,frozen vegetables,eggs,french fries,ma...\n",
      "7497                                              chicken\n",
      "7498                                   escalope,green tea\n",
      "7499      eggs,frozen smoothie,yogurt cake,low fat yogurt\n",
      "Name: Total_Items, Length: 7500, dtype: object\n"
     ]
    }
   ],
   "source": [
    "# Count items per transaction\n",
    "df['Total_Items'] = df.sum(axis=1)\n",
    "print(\"Items per transaction:\\n\", df['Total_Items'])"
   ]
  },
  {
   "cell_type": "code",
   "execution_count": 7,
   "id": "5aeeb740",
   "metadata": {},
   "outputs": [],
   "source": [
    "# Drop duplicates\n",
    "df = df.drop_duplicates()"
   ]
  },
  {
   "cell_type": "code",
   "execution_count": 8,
   "id": "bea30f20",
   "metadata": {},
   "outputs": [
    {
     "data": {
      "text/html": [
       "<div>\n",
       "<style scoped>\n",
       "    .dataframe tbody tr th:only-of-type {\n",
       "        vertical-align: middle;\n",
       "    }\n",
       "\n",
       "    .dataframe tbody tr th {\n",
       "        vertical-align: top;\n",
       "    }\n",
       "\n",
       "    .dataframe thead th {\n",
       "        text-align: right;\n",
       "    }\n",
       "</style>\n",
       "<table border=\"1\" class=\"dataframe\">\n",
       "  <thead>\n",
       "    <tr style=\"text-align: right;\">\n",
       "      <th></th>\n",
       "      <th>shrimp,almonds,avocado,vegetables mix,green grapes,whole weat flour,yams,cottage cheese,energy drink,tomato juice,low fat yogurt,green tea,honey,salad,mineral water,salmon,antioxydant juice,frozen smoothie,spinach,olive oil</th>\n",
       "      <th>Total_Items</th>\n",
       "    </tr>\n",
       "  </thead>\n",
       "  <tbody>\n",
       "    <tr>\n",
       "      <th>0</th>\n",
       "      <td>burgers,meatballs,eggs</td>\n",
       "      <td>burgers,meatballs,eggs</td>\n",
       "    </tr>\n",
       "    <tr>\n",
       "      <th>1</th>\n",
       "      <td>chutney</td>\n",
       "      <td>chutney</td>\n",
       "    </tr>\n",
       "    <tr>\n",
       "      <th>2</th>\n",
       "      <td>turkey,avocado</td>\n",
       "      <td>turkey,avocado</td>\n",
       "    </tr>\n",
       "    <tr>\n",
       "      <th>3</th>\n",
       "      <td>mineral water,milk,energy bar,whole wheat rice...</td>\n",
       "      <td>mineral water,milk,energy bar,whole wheat rice...</td>\n",
       "    </tr>\n",
       "    <tr>\n",
       "      <th>4</th>\n",
       "      <td>low fat yogurt</td>\n",
       "      <td>low fat yogurt</td>\n",
       "    </tr>\n",
       "    <tr>\n",
       "      <th>...</th>\n",
       "      <td>...</td>\n",
       "      <td>...</td>\n",
       "    </tr>\n",
       "    <tr>\n",
       "      <th>7492</th>\n",
       "      <td>burgers,salmon,pancakes,french fries,frozen sm...</td>\n",
       "      <td>burgers,salmon,pancakes,french fries,frozen sm...</td>\n",
       "    </tr>\n",
       "    <tr>\n",
       "      <th>7493</th>\n",
       "      <td>turkey,burgers,dessert wine,shrimp,pasta,tomat...</td>\n",
       "      <td>turkey,burgers,dessert wine,shrimp,pasta,tomat...</td>\n",
       "    </tr>\n",
       "    <tr>\n",
       "      <th>7495</th>\n",
       "      <td>butter,light mayo,fresh bread</td>\n",
       "      <td>butter,light mayo,fresh bread</td>\n",
       "    </tr>\n",
       "    <tr>\n",
       "      <th>7496</th>\n",
       "      <td>burgers,frozen vegetables,eggs,french fries,ma...</td>\n",
       "      <td>burgers,frozen vegetables,eggs,french fries,ma...</td>\n",
       "    </tr>\n",
       "    <tr>\n",
       "      <th>7499</th>\n",
       "      <td>eggs,frozen smoothie,yogurt cake,low fat yogurt</td>\n",
       "      <td>eggs,frozen smoothie,yogurt cake,low fat yogurt</td>\n",
       "    </tr>\n",
       "  </tbody>\n",
       "</table>\n",
       "<p>5175 rows × 2 columns</p>\n",
       "</div>"
      ],
      "text/plain": [
       "     shrimp,almonds,avocado,vegetables mix,green grapes,whole weat flour,yams,cottage cheese,energy drink,tomato juice,low fat yogurt,green tea,honey,salad,mineral water,salmon,antioxydant juice,frozen smoothie,spinach,olive oil  \\\n",
       "0                                burgers,meatballs,eggs                                                                                                                                                                                \n",
       "1                                               chutney                                                                                                                                                                                \n",
       "2                                        turkey,avocado                                                                                                                                                                                \n",
       "3     mineral water,milk,energy bar,whole wheat rice...                                                                                                                                                                                \n",
       "4                                        low fat yogurt                                                                                                                                                                                \n",
       "...                                                 ...                                                                                                                                                                                \n",
       "7492  burgers,salmon,pancakes,french fries,frozen sm...                                                                                                                                                                                \n",
       "7493  turkey,burgers,dessert wine,shrimp,pasta,tomat...                                                                                                                                                                                \n",
       "7495                      butter,light mayo,fresh bread                                                                                                                                                                                \n",
       "7496  burgers,frozen vegetables,eggs,french fries,ma...                                                                                                                                                                                \n",
       "7499    eggs,frozen smoothie,yogurt cake,low fat yogurt                                                                                                                                                                                \n",
       "\n",
       "                                            Total_Items  \n",
       "0                                burgers,meatballs,eggs  \n",
       "1                                               chutney  \n",
       "2                                        turkey,avocado  \n",
       "3     mineral water,milk,energy bar,whole wheat rice...  \n",
       "4                                        low fat yogurt  \n",
       "...                                                 ...  \n",
       "7492  burgers,salmon,pancakes,french fries,frozen sm...  \n",
       "7493  turkey,burgers,dessert wine,shrimp,pasta,tomat...  \n",
       "7495                      butter,light mayo,fresh bread  \n",
       "7496  burgers,frozen vegetables,eggs,french fries,ma...  \n",
       "7499    eggs,frozen smoothie,yogurt cake,low fat yogurt  \n",
       "\n",
       "[5175 rows x 2 columns]"
      ]
     },
     "execution_count": 8,
     "metadata": {},
     "output_type": "execute_result"
    }
   ],
   "source": [
    "df"
   ]
  },
  {
   "cell_type": "code",
   "execution_count": 9,
   "id": "daaf72af",
   "metadata": {},
   "outputs": [],
   "source": [
    "# Reset index\n",
    "df.reset_index(drop=True, inplace=True)\n"
   ]
  },
  {
   "cell_type": "code",
   "execution_count": 10,
   "id": "ac5ad627",
   "metadata": {},
   "outputs": [
    {
     "data": {
      "text/html": [
       "<div>\n",
       "<style scoped>\n",
       "    .dataframe tbody tr th:only-of-type {\n",
       "        vertical-align: middle;\n",
       "    }\n",
       "\n",
       "    .dataframe tbody tr th {\n",
       "        vertical-align: top;\n",
       "    }\n",
       "\n",
       "    .dataframe thead th {\n",
       "        text-align: right;\n",
       "    }\n",
       "</style>\n",
       "<table border=\"1\" class=\"dataframe\">\n",
       "  <thead>\n",
       "    <tr style=\"text-align: right;\">\n",
       "      <th></th>\n",
       "      <th>shrimp,almonds,avocado,vegetables mix,green grapes,whole weat flour,yams,cottage cheese,energy drink,tomato juice,low fat yogurt,green tea,honey,salad,mineral water,salmon,antioxydant juice,frozen smoothie,spinach,olive oil</th>\n",
       "      <th>Total_Items</th>\n",
       "    </tr>\n",
       "  </thead>\n",
       "  <tbody>\n",
       "    <tr>\n",
       "      <th>0</th>\n",
       "      <td>burgers,meatballs,eggs</td>\n",
       "      <td>burgers,meatballs,eggs</td>\n",
       "    </tr>\n",
       "    <tr>\n",
       "      <th>1</th>\n",
       "      <td>chutney</td>\n",
       "      <td>chutney</td>\n",
       "    </tr>\n",
       "    <tr>\n",
       "      <th>2</th>\n",
       "      <td>turkey,avocado</td>\n",
       "      <td>turkey,avocado</td>\n",
       "    </tr>\n",
       "    <tr>\n",
       "      <th>3</th>\n",
       "      <td>mineral water,milk,energy bar,whole wheat rice...</td>\n",
       "      <td>mineral water,milk,energy bar,whole wheat rice...</td>\n",
       "    </tr>\n",
       "    <tr>\n",
       "      <th>4</th>\n",
       "      <td>low fat yogurt</td>\n",
       "      <td>low fat yogurt</td>\n",
       "    </tr>\n",
       "    <tr>\n",
       "      <th>...</th>\n",
       "      <td>...</td>\n",
       "      <td>...</td>\n",
       "    </tr>\n",
       "    <tr>\n",
       "      <th>5170</th>\n",
       "      <td>burgers,salmon,pancakes,french fries,frozen sm...</td>\n",
       "      <td>burgers,salmon,pancakes,french fries,frozen sm...</td>\n",
       "    </tr>\n",
       "    <tr>\n",
       "      <th>5171</th>\n",
       "      <td>turkey,burgers,dessert wine,shrimp,pasta,tomat...</td>\n",
       "      <td>turkey,burgers,dessert wine,shrimp,pasta,tomat...</td>\n",
       "    </tr>\n",
       "    <tr>\n",
       "      <th>5172</th>\n",
       "      <td>butter,light mayo,fresh bread</td>\n",
       "      <td>butter,light mayo,fresh bread</td>\n",
       "    </tr>\n",
       "    <tr>\n",
       "      <th>5173</th>\n",
       "      <td>burgers,frozen vegetables,eggs,french fries,ma...</td>\n",
       "      <td>burgers,frozen vegetables,eggs,french fries,ma...</td>\n",
       "    </tr>\n",
       "    <tr>\n",
       "      <th>5174</th>\n",
       "      <td>eggs,frozen smoothie,yogurt cake,low fat yogurt</td>\n",
       "      <td>eggs,frozen smoothie,yogurt cake,low fat yogurt</td>\n",
       "    </tr>\n",
       "  </tbody>\n",
       "</table>\n",
       "<p>5175 rows × 2 columns</p>\n",
       "</div>"
      ],
      "text/plain": [
       "     shrimp,almonds,avocado,vegetables mix,green grapes,whole weat flour,yams,cottage cheese,energy drink,tomato juice,low fat yogurt,green tea,honey,salad,mineral water,salmon,antioxydant juice,frozen smoothie,spinach,olive oil  \\\n",
       "0                                burgers,meatballs,eggs                                                                                                                                                                                \n",
       "1                                               chutney                                                                                                                                                                                \n",
       "2                                        turkey,avocado                                                                                                                                                                                \n",
       "3     mineral water,milk,energy bar,whole wheat rice...                                                                                                                                                                                \n",
       "4                                        low fat yogurt                                                                                                                                                                                \n",
       "...                                                 ...                                                                                                                                                                                \n",
       "5170  burgers,salmon,pancakes,french fries,frozen sm...                                                                                                                                                                                \n",
       "5171  turkey,burgers,dessert wine,shrimp,pasta,tomat...                                                                                                                                                                                \n",
       "5172                      butter,light mayo,fresh bread                                                                                                                                                                                \n",
       "5173  burgers,frozen vegetables,eggs,french fries,ma...                                                                                                                                                                                \n",
       "5174    eggs,frozen smoothie,yogurt cake,low fat yogurt                                                                                                                                                                                \n",
       "\n",
       "                                            Total_Items  \n",
       "0                                burgers,meatballs,eggs  \n",
       "1                                               chutney  \n",
       "2                                        turkey,avocado  \n",
       "3     mineral water,milk,energy bar,whole wheat rice...  \n",
       "4                                        low fat yogurt  \n",
       "...                                                 ...  \n",
       "5170  burgers,salmon,pancakes,french fries,frozen sm...  \n",
       "5171  turkey,burgers,dessert wine,shrimp,pasta,tomat...  \n",
       "5172                      butter,light mayo,fresh bread  \n",
       "5173  burgers,frozen vegetables,eggs,french fries,ma...  \n",
       "5174    eggs,frozen smoothie,yogurt cake,low fat yogurt  \n",
       "\n",
       "[5175 rows x 2 columns]"
      ]
     },
     "execution_count": 10,
     "metadata": {},
     "output_type": "execute_result"
    }
   ],
   "source": [
    "df\n"
   ]
  },
  {
   "cell_type": "code",
   "execution_count": 11,
   "id": "4b5e94df",
   "metadata": {},
   "outputs": [
    {
     "name": "stdout",
     "output_type": "stream",
     "text": [
      "Unique items: {'barbecue sauce', 'blueberries', 'pet food', 'milk', 'oil', 'honey', 'bug spray', 'body spray', 'candy bars', 'butter', 'protein bar', 'herb & pepper', 'flax seed', 'muffins', 'pasta', 'sandwich', 'ground beef', 'fresh tuna', 'shallot', 'ham', 'hot dogs', 'light mayo', 'pickles', 'cake', 'green grapes', 'salt', 'shrimp', 'dessert wine', 'red wine', 'olive oil', 'napkins', 'cottage cheese', 'yams', 'mushroom cream sauce', 'ketchup', 'brownies', 'chutney', 'mashed potato', 'antioxydant juice', 'salad', 'clothes accessories', 'extra dark chocolate', 'nonfat milk', 'tea', 'whole weat flour', 'melons', 'salmon', 'gluten free bar', 'spinach', 'eggplant', 'green tea', 'almonds', 'energy drink', 'eggs', 'strawberries', 'sparkling water', 'soda', 'chocolate bread', 'cream', 'tomato juice', 'bramble', 'spaghetti', 'chili', 'chicken', 'cookies', 'escalope', 'avocado', 'strong cheese', 'tomatoes', 'mint green tea', 'champagne', 'rice', 'water spray', 'frozen smoothie', 'burgers', 'cauliflower', 'green beans', 'burger sauce', ' asparagus', 'magazines', 'toothpaste', 'fresh bread', 'cooking oil', 'gums', 'pancakes', 'mayonnaise', 'asparagus', 'shampoo', 'cereals', 'vegetables mix', 'soup', 'black tea', 'cider', 'low fat yogurt', 'light cream', 'carrots', 'whole wheat rice', 'mint', 'french wine', 'corn', 'tomato sauce', 'white wine', 'meatballs', 'bacon', 'mineral water', 'yogurt cake', 'grated cheese', 'fromage blanc', 'whole wheat pasta', 'frozen vegetables', 'french fries', 'babies food', 'parmesan cheese', 'chocolate', 'oatmeal', 'zucchini', 'turkey', 'energy bar', 'hand protein bar', 'pepper'}\n"
     ]
    }
   ],
   "source": [
    "# Find unique items\n",
    "unique_items = set(item for transaction in df['Total_Items'] for item in transaction.split(','))\n",
    "print(f\"Unique items: {unique_items}\")"
   ]
  },
  {
   "cell_type": "code",
   "execution_count": 12,
   "id": "78f0f890",
   "metadata": {},
   "outputs": [
    {
     "name": "stdout",
     "output_type": "stream",
     "text": [
      "Item Frequency:\n",
      "Counter({'mineral water': 1551, 'spaghetti': 1188, 'eggs': 1077, 'chocolate': 1063, 'french fries': 997, 'milk': 880, 'green tea': 875, 'ground beef': 703, 'frozen vegetables': 672, 'pancakes': 648, 'burgers': 589, 'cake': 536, 'shrimp': 511, 'low fat yogurt': 491, 'tomatoes': 476, 'olive oil': 453, 'frozen smoothie': 438, 'chicken': 434, 'escalope': 434, 'turkey': 431, 'whole wheat rice': 403, 'cooking oil': 372, 'soup': 367, 'grated cheese': 363, 'herb & pepper': 344, 'honey': 337, 'cookies': 314, 'fresh bread': 307, 'salmon': 297, 'champagne': 284, 'avocado': 237, 'brownies': 233, 'cottage cheese': 222, 'hot dogs': 220, 'tomato juice': 218, 'butter': 213, 'whole wheat pasta': 210, 'red wine': 200, 'ham': 197, 'pepper': 193, 'cereals': 188, 'light mayo': 186, 'vegetables mix': 173, 'energy bar': 170, 'yogurt cake': 170, 'french wine': 168, 'oil': 162, 'energy drink': 161, 'fresh tuna': 160, 'almonds': 151, 'muffins': 149, 'meatballs': 147, 'parmesan cheese': 144, 'strawberries': 141, 'rice': 138, 'protein bar': 128, 'mushroom cream sauce': 125, 'mint': 122, 'light cream': 116, 'carrots': 115, 'white wine': 114, 'black tea': 106, 'tomato sauce': 104, 'fromage blanc': 101, 'gums': 96, 'eggplant': 96, 'pasta': 90, 'extra dark chocolate': 88, 'body spray': 84, 'melons': 82, 'barbecue sauce': 80, 'magazines': 79, 'yams': 78, 'cider': 78, 'nonfat milk': 73, 'zucchini': 70, 'blueberries': 68, 'green grapes': 67, 'whole weat flour': 67, 'salt': 66, 'bacon': 65, 'flax seed': 65, 'bug spray': 64, 'green beans': 63, 'clothes accessories': 61, 'toothpaste': 58, 'strong cheese': 58, 'antioxydant juice': 57, 'shallot': 53, 'spinach': 51, 'candy bars': 50, 'gluten free bar': 48, 'sparkling water': 46, 'chili': 46, 'pet food': 45, 'soda': 44, 'burger sauce': 44, 'mayonnaise': 43, 'pickles': 42, 'mint green tea': 39, 'hand protein bar': 39, 'shampoo': 37, 'corn': 36, 'cauliflower': 36, 'asparagus': 34, 'salad': 34, 'dessert wine': 33, 'ketchup': 33, 'oatmeal': 33, 'chocolate bread': 32, 'babies food': 31, 'chutney': 30, 'mashed potato': 30, 'tea': 29, 'sandwich': 28, 'bramble': 13, 'cream': 7, 'napkins': 5, 'water spray': 3, ' asparagus': 1})\n"
     ]
    }
   ],
   "source": [
    "item_counts = Counter(item for transaction in df['Total_Items'] for item in transaction.split(','))\n",
    "print(\"Item Frequency:\")\n",
    "print(item_counts)"
   ]
  },
  {
   "cell_type": "code",
   "execution_count": 13,
   "id": "37af8d0f",
   "metadata": {},
   "outputs": [
    {
     "name": "stdout",
     "output_type": "stream",
     "text": [
      "count    5175.000000\n",
      "mean        5.071498\n",
      "std         2.777176\n",
      "min         1.000000\n",
      "25%         3.000000\n",
      "50%         4.000000\n",
      "75%         7.000000\n",
      "max        19.000000\n",
      "Name: Num_Items, dtype: float64\n"
     ]
    }
   ],
   "source": [
    "# Number of items per transaction\n",
    "df['Num_Items'] = df['Total_Items'].apply(lambda x: len(x.split(',')))\n",
    "print(df['Num_Items'].describe())"
   ]
  },
  {
   "cell_type": "code",
   "execution_count": 14,
   "id": "4cc52002",
   "metadata": {},
   "outputs": [
    {
     "data": {
      "image/png": "[encoded data removed]",
      "text/plain": [
       "<Figure size 432x288 with 1 Axes>"
      ]
     },
     "metadata": {
      "needs_background": "light"
     },
     "output_type": "display_data"
    }
   ],
   "source": [
    "sns.histplot(df['Num_Items'], bins=range(1, df['Num_Items'].max() + 2), kde=False)\n",
    "plt.title('Transaction Size Distribution')\n",
    "plt.xlabel('Number of Items')\n",
    "plt.ylabel('Frequency')\n",
    "plt.show()"
   ]
  },
  {
   "cell_type": "code",
   "execution_count": 15,
   "id": "7045e9c8",
   "metadata": {},
   "outputs": [],
   "source": [
    "# Outliers in transaction size\n",
    "q1 = df['Num_Items'].quantile(0.25)\n",
    "q3 = df['Num_Items'].quantile(0.75)\n",
    "iqr = q3 - q1\n"
   ]
  },
  {
   "cell_type": "code",
   "execution_count": 16,
   "id": "2d348275",
   "metadata": {},
   "outputs": [],
   "source": [
    "\n",
    "# Define lower and upper bounds for outliers\n",
    "lower_bound = q1 - 1.5 * iqr\n",
    "upper_bound = q3 + 1.5 * iqr"
   ]
  },
  {
   "cell_type": "code",
   "execution_count": 17,
   "id": "ea594850",
   "metadata": {},
   "outputs": [
    {
     "name": "stdout",
     "output_type": "stream",
     "text": [
      "Lower Bound: -3.0, Upper Bound: 13.0\n"
     ]
    }
   ],
   "source": [
    "print(f\"Lower Bound: {lower_bound}, Upper Bound: {upper_bound}\")"
   ]
  },
  {
   "cell_type": "code",
   "execution_count": 18,
   "id": "78c66122",
   "metadata": {},
   "outputs": [],
   "source": [
    "# Keep transactions within bounds\n",
    "data = df[(df['Num_Items'] >= lower_bound) & (df['Num_Items'] <= upper_bound)]"
   ]
  },
  {
   "cell_type": "code",
   "execution_count": 19,
   "id": "8374dcde",
   "metadata": {},
   "outputs": [
    {
     "name": "stdout",
     "output_type": "stream",
     "text": [
      "Dataset after removing outliers:\n",
      "     shrimp,almonds,avocado,vegetables mix,green grapes,whole weat flour,yams,cottage cheese,energy drink,tomato juice,low fat yogurt,green tea,honey,salad,mineral water,salmon,antioxydant juice,frozen smoothie,spinach,olive oil  \\\n",
      "0                                burgers,meatballs,eggs                                                                                                                                                                                \n",
      "1                                               chutney                                                                                                                                                                                \n",
      "2                                        turkey,avocado                                                                                                                                                                                \n",
      "3     mineral water,milk,energy bar,whole wheat rice...                                                                                                                                                                                \n",
      "4                                        low fat yogurt                                                                                                                                                                                \n",
      "...                                                 ...                                                                                                                                                                                \n",
      "5170  burgers,salmon,pancakes,french fries,frozen sm...                                                                                                                                                                                \n",
      "5171  turkey,burgers,dessert wine,shrimp,pasta,tomat...                                                                                                                                                                                \n",
      "5172                      butter,light mayo,fresh bread                                                                                                                                                                                \n",
      "5173  burgers,frozen vegetables,eggs,french fries,ma...                                                                                                                                                                                \n",
      "5174    eggs,frozen smoothie,yogurt cake,low fat yogurt                                                                                                                                                                                \n",
      "\n",
      "                                            Total_Items  \n",
      "0                                burgers,meatballs,eggs  \n",
      "1                                               chutney  \n",
      "2                                        turkey,avocado  \n",
      "3     mineral water,milk,energy bar,whole wheat rice...  \n",
      "4                                        low fat yogurt  \n",
      "...                                                 ...  \n",
      "5170  burgers,salmon,pancakes,french fries,frozen sm...  \n",
      "5171  turkey,burgers,dessert wine,shrimp,pasta,tomat...  \n",
      "5172                      butter,light mayo,fresh bread  \n",
      "5173  burgers,frozen vegetables,eggs,french fries,ma...  \n",
      "5174    eggs,frozen smoothie,yogurt cake,low fat yogurt  \n",
      "\n",
      "[5129 rows x 2 columns]\n"
     ]
    }
   ],
   "source": [
    "data.drop(columns=['Num_Items'], inplace=True)\n",
    "\n",
    "print(f\"Dataset after removing outliers:\\n{data}\")\n"
   ]
  },
  {
   "cell_type": "code",
   "execution_count": 20,
   "id": "ba2edfb2",
   "metadata": {},
   "outputs": [
    {
     "data": {
      "image/png": "[encoded data removed]",
      "text/plain": [
       "<Figure size 432x288 with 1 Axes>"
      ]
     },
     "metadata": {
      "needs_background": "light"
     },
     "output_type": "display_data"
    }
   ],
   "source": [
    "sns.histplot(data['Total_Items'].apply(lambda x: len(x.split(','))), bins=range(1, 20), kde=False)\n",
    "plt.title('Transaction Size Distribution After Removing Outliers')\n",
    "plt.xlabel('Number of Items')\n",
    "plt.ylabel('Frequency')\n",
    "plt.show()"
   ]
  },
  {
   "cell_type": "code",
   "execution_count": 21,
   "id": "edb6bf72",
   "metadata": {},
   "outputs": [],
   "source": [
    "\n",
    "# Step 1: Split the items in each transaction into a list\n",
    "transactions = data['Total_Items'].apply(lambda x: x.split(',')).tolist()\n"
   ]
  },
  {
   "cell_type": "code",
   "execution_count": 22,
   "id": "becc81f8",
   "metadata": {},
   "outputs": [],
   "source": [
    "# Step 2: Apply One-Hot Encoding\n",
    "te = TransactionEncoder()\n",
    "te_ary = te.fit(transactions).transform(transactions)\n"
   ]
  },
  {
   "cell_type": "code",
   "execution_count": 23,
   "id": "1491e9af",
   "metadata": {},
   "outputs": [],
   "source": [
    "# Convert the binary matrix into a DataFrame\n",
    "df_encoded = pd.DataFrame(te_ary, columns=te.columns_)\n",
    "df_encoded = df_encoded.astype(int)"
   ]
  },
  {
   "cell_type": "code",
   "execution_count": 24,
   "id": "02c41bb5",
   "metadata": {},
   "outputs": [
    {
     "name": "stdout",
     "output_type": "stream",
     "text": [
      "One-Hot Encoded DataFrame:\n",
      "        asparagus  almonds  antioxydant juice  asparagus  avocado  babies food  \\\n",
      "0              0        0                  0          0        0            0   \n",
      "1              0        0                  0          0        0            0   \n",
      "2              0        0                  0          0        1            0   \n",
      "3              0        0                  0          0        0            0   \n",
      "4              0        0                  0          0        0            0   \n",
      "...          ...      ...                ...        ...      ...          ...   \n",
      "5124           0        0                  0          0        0            0   \n",
      "5125           0        0                  0          0        0            0   \n",
      "5126           0        0                  0          0        0            0   \n",
      "5127           0        0                  0          0        0            0   \n",
      "5128           0        0                  0          0        0            0   \n",
      "\n",
      "      bacon  barbecue sauce  black tea  blueberries  ...  turkey  \\\n",
      "0         0               0          0            0  ...       0   \n",
      "1         0               0          0            0  ...       0   \n",
      "2         0               0          0            0  ...       1   \n",
      "3         0               0          0            0  ...       0   \n",
      "4         0               0          0            0  ...       0   \n",
      "...     ...             ...        ...          ...  ...     ...   \n",
      "5124      0               0          0            0  ...       0   \n",
      "5125      0               0          0            0  ...       1   \n",
      "5126      0               0          0            0  ...       0   \n",
      "5127      0               0          0            0  ...       0   \n",
      "5128      0               0          0            0  ...       0   \n",
      "\n",
      "      vegetables mix  water spray  white wine  whole weat flour  \\\n",
      "0                  0            0           0                 0   \n",
      "1                  0            0           0                 0   \n",
      "2                  0            0           0                 0   \n",
      "3                  0            0           0                 0   \n",
      "4                  0            0           0                 0   \n",
      "...              ...          ...         ...               ...   \n",
      "5124               0            0           0                 0   \n",
      "5125               0            0           0                 0   \n",
      "5126               0            0           0                 0   \n",
      "5127               0            0           0                 0   \n",
      "5128               0            0           0                 0   \n",
      "\n",
      "      whole wheat pasta  whole wheat rice  yams  yogurt cake  zucchini  \n",
      "0                     0                 0     0            0         0  \n",
      "1                     0                 0     0            0         0  \n",
      "2                     0                 0     0            0         0  \n",
      "3                     0                 1     0            0         0  \n",
      "4                     0                 0     0            0         0  \n",
      "...                 ...               ...   ...          ...       ...  \n",
      "5124                  0                 0     0            0         0  \n",
      "5125                  0                 1     0            0         0  \n",
      "5126                  0                 0     0            0         0  \n",
      "5127                  0                 0     0            0         0  \n",
      "5128                  0                 0     0            1         0  \n",
      "\n",
      "[5129 rows x 120 columns]\n"
     ]
    }
   ],
   "source": [
    "# Display the one-hot encoded DataFrame\n",
    "print(\"One-Hot Encoded DataFrame:\\n\", df_encoded)\n",
    "\n"
   ]
  },
  {
   "cell_type": "code",
   "execution_count": 32,
   "id": "8557856b",
   "metadata": {},
   "outputs": [],
   "source": [
    "#  Apply the Apriori algorithm\n",
    "frequent_itemsets = apriori(df_encoded, min_support=0.05 , use_colnames=True)\n"
   ]
  },
  {
   "cell_type": "code",
   "execution_count": 33,
   "id": "07836204",
   "metadata": {},
   "outputs": [
    {
     "name": "stdout",
     "output_type": "stream",
     "text": [
      "\n",
      "Frequent Itemsets:\n",
      "      support                      itemsets\n",
      "0   0.112108                     (burgers)\n",
      "1   0.101579                        (cake)\n",
      "2   0.054592                   (champagne)\n",
      "3   0.081692                     (chicken)\n",
      "4   0.203938                   (chocolate)\n",
      "5   0.060441                     (cookies)\n",
      "6   0.070384                 (cooking oil)\n",
      "7   0.207253                        (eggs)\n",
      "8   0.082667                    (escalope)\n",
      "9   0.189901                (french fries)\n",
      "10  0.058491                 (fresh bread)\n",
      "11  0.083057             (frozen smoothie)\n",
      "12  0.127900           (frozen vegetables)\n",
      "13  0.069994               (grated cheese)\n",
      "14  0.167674                   (green tea)\n",
      "15  0.133554                 (ground beef)\n",
      "16  0.065315               (herb & pepper)\n",
      "17  0.064145                       (honey)\n",
      "18  0.094560              (low fat yogurt)\n",
      "19  0.166894                        (milk)\n",
      "20  0.296939               (mineral water)\n",
      "21  0.085007                   (olive oil)\n",
      "22  0.122441                    (pancakes)\n",
      "23  0.055371                      (salmon)\n",
      "24  0.096900                      (shrimp)\n",
      "25  0.069799                        (soup)\n",
      "26  0.225385                   (spaghetti)\n",
      "27  0.090661                    (tomatoes)\n",
      "28  0.082472                      (turkey)\n",
      "29  0.076818            (whole wheat rice)\n",
      "30  0.072334    (chocolate, mineral water)\n",
      "31  0.053812        (spaghetti, chocolate)\n",
      "32  0.069214         (eggs, mineral water)\n",
      "33  0.056931  (ground beef, mineral water)\n",
      "34  0.054007      (spaghetti, ground beef)\n",
      "35  0.065315         (mineral water, milk)\n",
      "36  0.082277    (spaghetti, mineral water)\n"
     ]
    }
   ],
   "source": [
    "# Display the frequent itemsets\n",
    "print(\"\\nFrequent Itemsets:\\n\", frequent_itemsets)"
   ]
  },
  {
   "cell_type": "code",
   "execution_count": 34,
   "id": "7c7bc600",
   "metadata": {},
   "outputs": [],
   "source": [
    "# Generate association rules from the frequent itemsets\n",
    "rules = association_rules(frequent_itemsets, metric=\"lift\", min_threshold=1,  num_itemsets=4)"
   ]
  },
  {
   "cell_type": "code",
   "execution_count": 35,
   "id": "660506c5",
   "metadata": {},
   "outputs": [
    {
     "name": "stdout",
     "output_type": "stream",
     "text": [
      "        antecedents      consequents  antecedent support  consequent support  \\\n",
      "0       (chocolate)  (mineral water)            0.203938            0.296939   \n",
      "1   (mineral water)      (chocolate)            0.296939            0.203938   \n",
      "2       (spaghetti)      (chocolate)            0.225385            0.203938   \n",
      "3       (chocolate)      (spaghetti)            0.203938            0.225385   \n",
      "4            (eggs)  (mineral water)            0.207253            0.296939   \n",
      "5   (mineral water)           (eggs)            0.296939            0.207253   \n",
      "6     (ground beef)  (mineral water)            0.133554            0.296939   \n",
      "7   (mineral water)    (ground beef)            0.296939            0.133554   \n",
      "8       (spaghetti)    (ground beef)            0.225385            0.133554   \n",
      "9     (ground beef)      (spaghetti)            0.133554            0.225385   \n",
      "10  (mineral water)           (milk)            0.296939            0.166894   \n",
      "11           (milk)  (mineral water)            0.166894            0.296939   \n",
      "12      (spaghetti)  (mineral water)            0.225385            0.296939   \n",
      "13  (mineral water)      (spaghetti)            0.296939            0.225385   \n",
      "\n",
      "     support  confidence      lift  representativity  leverage  conviction  \\\n",
      "0   0.072334    0.354685  1.194469               1.0  0.011777    1.089484   \n",
      "1   0.072334    0.243598  1.194469               1.0  0.011777    1.052432   \n",
      "2   0.053812    0.238754  1.170718               1.0  0.007847    1.045735   \n",
      "3   0.053812    0.263862  1.170718               1.0  0.007847    1.052269   \n",
      "4   0.069214    0.333960  1.124677               1.0  0.007673    1.055585   \n",
      "5   0.069214    0.233093  1.124677               1.0  0.007673    1.033693   \n",
      "6   0.056931    0.426277  1.435572               1.0  0.017274    1.225437   \n",
      "7   0.056931    0.191727  1.435572               1.0  0.017274    1.071971   \n",
      "8   0.054007    0.239619  1.794172               1.0  0.023905    1.139489   \n",
      "9   0.054007    0.404380  1.794172               1.0  0.023905    1.300518   \n",
      "10  0.065315    0.219961  1.317965               1.0  0.015758    1.068031   \n",
      "11  0.065315    0.391355  1.317965               1.0  0.015758    1.155125   \n",
      "12  0.082277    0.365052  1.229384               1.0  0.015352    1.107273   \n",
      "13  0.082277    0.277085  1.229384               1.0  0.015352    1.071515   \n",
      "\n",
      "    zhangs_metric   jaccard  certainty  kulczynski  \n",
      "0        0.204517  0.168790   0.082134    0.299141  \n",
      "1        0.231570  0.168790   0.049820    0.299141  \n",
      "2        0.188253  0.143302   0.043735    0.251308  \n",
      "3        0.183181  0.143302   0.049673    0.251308  \n",
      "4        0.139838  0.159121   0.052658    0.283527  \n",
      "5        0.157676  0.159121   0.032595    0.283527  \n",
      "6        0.350182  0.152401   0.183965    0.309002  \n",
      "7        0.431561  0.152401   0.067139    0.309002  \n",
      "8        0.571432  0.177110   0.122414    0.321999  \n",
      "9        0.510869  0.177110   0.231075    0.321999  \n",
      "10       0.343149  0.163894   0.063697    0.305658  \n",
      "11       0.289584  0.163894   0.134293    0.305658  \n",
      "12       0.240874  0.186974   0.096881    0.321068  \n",
      "13       0.265388  0.186974   0.066742    0.321068  \n"
     ]
    }
   ],
   "source": [
    "# Display the association rules\n",
    "print(rules)"
   ]
  },
  {
   "cell_type": "markdown",
   "id": "a075d6ba",
   "metadata": {},
   "source": [
    "conclusion :- This rule indicates that chocolate and mineral water tend to appear togetherin a fairly significant number of transactionsbut are not strongly correlated.\n",
    "There is a moderate association between chocolate and mineral water.When customers buy chocolate, they have a 35.46% chance of also buying mineral water.\n"
   ]
  },
  {
   "cell_type": "markdown",
   "id": "7d71f7ea",
   "metadata": {},
   "source": [
    "Interview questions:- \n",
    "1.  Lift is a metric used in association rule mining to evaluate the strength of a rule beyond just the raw support or confidence values. It measures how much more likely the consequent is to appear when the antecedent is present, compared to when they are independent of each other. In simpler terms, it tells us whether the occurrence of one item influences the occurrence of another item.\n",
    "\n",
    "2.  Support and Confidence are two key metrics used in Association Rule Mining to evaluate the strength of relationships between items in a dataset.Support measures how frequently a particular itemset (or combination of items) appears in the dataset. It tells us how common or rare a combination of items is in the transactions.\n",
    "\n",
    "                              Support(A)= Total number of transactions/\n",
    "                                          Number of transactions containing A\n",
    "                                          \n",
    "                            Support(A→B)= Total number of transactions/\n",
    "                                          Number of transactions containing both A and B\n",
    "\n",
    "  Confidence is a measure of the likelihood that the consequent (B) of a rule occurs when the antecedent (A) is present. \n",
    "                           \n",
    "                              Confidence(A→B)= Support(A)/\n",
    "                                               Support(A∩B)\n",
    "\n",
    "3.  limitations or Challenges of association rule:- \n",
    "\n",
    "Scalability:- As the size of the dataset grows, the computational cost of finding frequent itemsets increases.\n",
    "\n",
    "High Dimentionallity:- In large datasets with many items, the number of possible combinations of items increases exponentially. This leads to combinatorial explosion, making it hard to find meaningful rules in the vast space of itemsets.\n",
    "\n",
    "Overfitting:- Overfitting occurs when the model finds patterns in the training data that do not generalize well to new, unseen data. This can happen when the thresholds for support and confidence are too low, leading to many spurious rules.\n",
    "\n",
    "Multicollinearity:- Association rules can be highly redundant, where multiple rules convey the same or very similar information. For example, the rules \"A → B\" and \"B → A\" might both be generated, even though they represent the same relationship."
   ]
  }
 ],
 "metadata": {
  "kernelspec": {
   "display_name": "Python 3 (ipykernel)",
   "language": "python",
   "name": "python3"
  },
  "language_info": {
   "codemirror_mode": {
    "name": "ipython",
    "version": 3
   },
   "file_extension": ".py",
   "mimetype": "text/x-python",
   "name": "python",
   "nbconvert_exporter": "python",
   "pygments_lexer": "ipython3",
   "version": "3.9.7"
  }
 },
 "nbformat": 4,
 "nbformat_minor": 5
}
