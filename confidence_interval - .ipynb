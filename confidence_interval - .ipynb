{
 "cells": [
  {
   "cell_type": "code",
   "execution_count": 2,
   "id": "c4ee14a7",
   "metadata": {},
   "outputs": [],
   "source": [
    "#import necessary libraries \n",
    "import numpy as np\n",
    "import scipy.stats as stats"
   ]
  },
  {
   "cell_type": "code",
   "execution_count": 3,
   "id": "d82c8cbb",
   "metadata": {},
   "outputs": [],
   "source": [
    "#define sample data\n",
    "sample_data = [1.13,1.55,1.43,0.92,1.25,1.36,0.85,1.97,1.48,1.20,1.33,1.18,1.22,1.29]"
   ]
  },
  {
   "cell_type": "code",
   "execution_count": 4,
   "id": "3c3c52de",
   "metadata": {},
   "outputs": [],
   "source": [
    "#calculate sample mean\n",
    "sample_mean = np.mean(sample_data)"
   ]
  },
  {
   "cell_type": "code",
   "execution_count": 5,
   "id": "37ed88fd",
   "metadata": {},
   "outputs": [
    {
     "data": {
      "text/plain": [
       "1.297142857142857"
      ]
     },
     "execution_count": 5,
     "metadata": {},
     "output_type": "execute_result"
    }
   ],
   "source": [
    "sample_mean"
   ]
  },
  {
   "cell_type": "code",
   "execution_count": 6,
   "id": "9217721b",
   "metadata": {},
   "outputs": [],
   "source": [
    "#calculate sample standard deviation\n",
    "sample_std = np.std(sample_data, ddof=1)"
   ]
  },
  {
   "cell_type": "code",
   "execution_count": 7,
   "id": "57516440",
   "metadata": {},
   "outputs": [
    {
     "data": {
      "text/plain": [
       "0.2737609448863277"
      ]
     },
     "execution_count": 7,
     "metadata": {},
     "output_type": "execute_result"
    }
   ],
   "source": [
    "sample_std"
   ]
  },
  {
   "cell_type": "code",
   "execution_count": 8,
   "id": "d23f7c72",
   "metadata": {},
   "outputs": [],
   "source": [
    "#calculate sample size\n",
    "n = len(sample_data)"
   ]
  },
  {
   "cell_type": "code",
   "execution_count": 9,
   "id": "e1f31916",
   "metadata": {},
   "outputs": [
    {
     "data": {
      "text/plain": [
       "14"
      ]
     },
     "execution_count": 9,
     "metadata": {},
     "output_type": "execute_result"
    }
   ],
   "source": [
    "n"
   ]
  },
  {
   "cell_type": "code",
   "execution_count": 10,
   "id": "d1865187",
   "metadata": {},
   "outputs": [],
   "source": [
    "#calculate standard error\n",
    "standard_error = sample_std / np.sqrt(n)"
   ]
  },
  {
   "cell_type": "code",
   "execution_count": 13,
   "id": "dc54c5b5",
   "metadata": {},
   "outputs": [],
   "source": [
    "# Find the critical t-value for a 99% confidence interval\n",
    "# Since we're using a sample and small scale data, we use the t-distribution.\n",
    "confidence_level = 0.99\n",
    "alpha = 1 - confidence_level\n",
    "t_critical = stats.t.ppf(1 - alpha/2, df=n-1)"
   ]
  },
  {
   "cell_type": "code",
   "execution_count": 14,
   "id": "d915dd07",
   "metadata": {},
   "outputs": [],
   "source": [
    "#calculate margin of error\n",
    "margin_of_error = t_critical * standard_error"
   ]
  },
  {
   "cell_type": "code",
   "execution_count": 15,
   "id": "c4e9f8b8",
   "metadata": {},
   "outputs": [],
   "source": [
    "#Calculate confidence interval\n",
    "confidence_interval = (sample_mean - margin_of_error, sample_mean + margin_of_error)"
   ]
  },
  {
   "cell_type": "code",
   "execution_count": 16,
   "id": "e9c86381",
   "metadata": {},
   "outputs": [
    {
     "name": "stdout",
     "output_type": "stream",
     "text": [
      "Sample Mean: 1.297142857142857\n",
      "Margin of Error: 0.22039524052651474\n",
      "99% Confidence Interval: (1.076747616616342, 1.5175380976693718)\n"
     ]
    }
   ],
   "source": [
    "print(f\"Sample Mean: {sample_mean}\")\n",
    "print(f\"Margin of Error: {margin_of_error}\")\n",
    "print(f\"99% Confidence Interval: {confidence_interval}\")"
   ]
  },
  {
   "cell_type": "markdown",
   "id": "0d3a9564",
   "metadata": {},
   "source": [
    "Explanation :- We calculated a 99% confidence interval. The sample mean is 1.2971, with a margin of error of 0.2204. This results in a confidence interval of [1.0767,1.5175]. We are 99% confident that  data lies within this range.\""
   ]
  },
  {
   "cell_type": "code",
   "execution_count": 17,
   "id": "fda39a8d",
   "metadata": {},
   "outputs": [],
   "source": [
    "#define population standard deviation\n",
    "polpulation_std = 0.2\n"
   ]
  },
  {
   "cell_type": "code",
   "execution_count": 22,
   "id": "5301c5c9",
   "metadata": {},
   "outputs": [],
   "source": [
    "# Find the critical z-value for a 99% confidence interval\n",
    "confidence_level = 0.99\n",
    "alpha = 1 - confidence_level\n",
    "z_critical = stats.norm.ppf(1 - alpha/2)  # z-distribution critical value\n",
    "\n"
   ]
  },
  {
   "cell_type": "code",
   "execution_count": 23,
   "id": "fe612301",
   "metadata": {},
   "outputs": [],
   "source": [
    "# Calculate margin of error\n",
    "margin_of_error = z_critical * standard_error"
   ]
  },
  {
   "cell_type": "code",
   "execution_count": 25,
   "id": "f158b834",
   "metadata": {},
   "outputs": [
    {
     "name": "stdout",
     "output_type": "stream",
     "text": [
      "Sample Mean: 1.297142857142857\n",
      "Margin of Error: 0.1884623286188768\n",
      "99% Confidence Interval: (1.1086805285239802, 1.4856051857617336)\n"
     ]
    }
   ],
   "source": [
    "#Calculate confidence interval\n",
    "confidence_interval = (sample_mean - margin_of_error, sample_mean + margin_of_error)\n",
    "print(f\"Sample Mean: {sample_mean}\")\n",
    "print(f\"Margin of Error: {margin_of_error}\")\n",
    "print(f\"99% Confidence Interval: {confidence_interval}\")"
   ]
  },
  {
   "cell_type": "markdown",
   "id": "79e64b8e",
   "metadata": {},
   "source": [
    "Summary :- We calculated a 99% confidence interval for the population standard deviation based on the sample data. The sample mean is 1.2971, with a margin of error of 0.1885. This gives a confidence interval of [1.1087,1.4856]. We are 99% confident that the true population standard deviation lies within this range.\""
   ]
  }
 ],
 "metadata": {
  "kernelspec": {
   "display_name": "Python 3 (ipykernel)",
   "language": "python",
   "name": "python3"
  },
  "language_info": {
   "codemirror_mode": {
    "name": "ipython",
    "version": 3
   },
   "file_extension": ".py",
   "mimetype": "text/x-python",
   "name": "python",
   "nbconvert_exporter": "python",
   "pygments_lexer": "ipython3",
   "version": "3.9.7"
  }
 },
 "nbformat": 4,
 "nbformat_minor": 5
}
